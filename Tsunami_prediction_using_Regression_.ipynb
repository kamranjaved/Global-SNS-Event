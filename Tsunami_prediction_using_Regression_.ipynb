{
  "nbformat": 4,
  "nbformat_minor": 0,
  "metadata": {
    "colab": {
      "name": "Tsunami prediction using Regression .ipynb",
      "provenance": [],
      "authorship_tag": "ABX9TyP9Sn1r5Ms1gPBBKj/QFx+J",
      "include_colab_link": true
    },
    "kernelspec": {
      "name": "python3",
      "display_name": "Python 3"
    },
    "language_info": {
      "name": "python"
    }
  },
  "cells": [
    {
      "cell_type": "markdown",
      "metadata": {
        "id": "view-in-github",
        "colab_type": "text"
      },
      "source": [
        "<a href=\"https://colab.research.google.com/github/kamranjaved/Global-SNS-Event/blob/master/Tsunami_prediction_using_Regression_.ipynb\" target=\"_parent\"><img src=\"https://colab.research.google.com/assets/colab-badge.svg\" alt=\"Open In Colab\"/></a>"
      ]
    },
    {
      "cell_type": "code",
      "metadata": {
        "colab": {
          "base_uri": "https://localhost:8080/"
        },
        "id": "svFT-AHzGcVX",
        "outputId": "73d3a232-f7f0-456e-a4a2-47013c6b9034"
      },
      "source": [
        "from google.colab import drive\n",
        "drive.mount('/content/drive')"
      ],
      "execution_count": 1,
      "outputs": [
        {
          "output_type": "stream",
          "text": [
            "Mounted at /content/drive\n"
          ],
          "name": "stdout"
        }
      ]
    },
    {
      "cell_type": "code",
      "metadata": {
        "id": "tX-ccDf1Gh_i"
      },
      "source": [
        "import pandas as pd\n",
        "df_in=pd.read_csv('/content/drive/My Drive/civil/input.csv')\n",
        "df_out=pd.read_csv('/content/drive/My Drive/civil/output.csv')\n",
        "# test=pd.read_csv('/content/drive/My Drive/test.csv')"
      ],
      "execution_count": 2,
      "outputs": []
    },
    {
      "cell_type": "code",
      "metadata": {
        "id": "HuaxvkJ02hO3"
      },
      "source": [
        "# use mlp for prediction on multi-output regression\n",
        "import numpy as np\n",
        "from numpy import asarray\n",
        "from sklearn.datasets import make_regression\n",
        "from keras.models import Sequential\n",
        "from keras.layers import Dense\n",
        "\n",
        "import matplotlib.pyplot as plt"
      ],
      "execution_count": 3,
      "outputs": []
    },
    {
      "cell_type": "code",
      "metadata": {
        "id": "y92I4yN2EaKa"
      },
      "source": [
        "X = df_in\n",
        "y = df_out"
      ],
      "execution_count": 4,
      "outputs": []
    },
    {
      "cell_type": "code",
      "metadata": {
        "id": "DNd6ML3q5LVI"
      },
      "source": [
        "\n",
        "# load dataset\n",
        "# X, y = get_dataset()\n",
        "n_inputs, n_outputs = X.shape[1], y.shape[1]"
      ],
      "execution_count": 5,
      "outputs": []
    },
    {
      "cell_type": "code",
      "metadata": {
        "colab": {
          "base_uri": "https://localhost:8080/"
        },
        "id": "FNKKjjnI5VHG",
        "outputId": "56c99280-980c-4a5d-f32c-d0ab4ad104df"
      },
      "source": [
        " print(X.shape)\n",
        " print(n_inputs)\n",
        " print(y.shape)\n",
        " print(n_outputs)"
      ],
      "execution_count": 6,
      "outputs": [
        {
          "output_type": "stream",
          "text": [
            "(44, 8)\n",
            "8\n",
            "(44, 2388)\n",
            "2388\n"
          ],
          "name": "stdout"
        }
      ]
    },
    {
      "cell_type": "code",
      "metadata": {
        "colab": {
          "base_uri": "https://localhost:8080/",
          "height": 198
        },
        "id": "cRHZRa8AQkvY",
        "outputId": "0cfecfff-beda-456b-f66b-8b27b7f5cc8d"
      },
      "source": [
        "X.head()"
      ],
      "execution_count": 7,
      "outputs": [
        {
          "output_type": "execute_result",
          "data": {
            "text/html": [
              "<div>\n",
              "<style scoped>\n",
              "    .dataframe tbody tr th:only-of-type {\n",
              "        vertical-align: middle;\n",
              "    }\n",
              "\n",
              "    .dataframe tbody tr th {\n",
              "        vertical-align: top;\n",
              "    }\n",
              "\n",
              "    .dataframe thead th {\n",
              "        text-align: right;\n",
              "    }\n",
              "</style>\n",
              "<table border=\"1\" class=\"dataframe\">\n",
              "  <thead>\n",
              "    <tr style=\"text-align: right;\">\n",
              "      <th></th>\n",
              "      <th>H (km)</th>\n",
              "      <th>Theta (degrees)</th>\n",
              "      <th>Delta (degrees)</th>\n",
              "      <th>Lambda (degrees)</th>\n",
              "      <th>L (km)</th>\n",
              "      <th>W (km)</th>\n",
              "      <th>D (m)</th>\n",
              "      <th>M</th>\n",
              "    </tr>\n",
              "  </thead>\n",
              "  <tbody>\n",
              "    <tr>\n",
              "      <th>0</th>\n",
              "      <td>2.4</td>\n",
              "      <td>201</td>\n",
              "      <td>45</td>\n",
              "      <td>76</td>\n",
              "      <td>21.6</td>\n",
              "      <td>17.9</td>\n",
              "      <td>3.70</td>\n",
              "      <td>7.4</td>\n",
              "    </tr>\n",
              "    <tr>\n",
              "      <th>1</th>\n",
              "      <td>2.0</td>\n",
              "      <td>189</td>\n",
              "      <td>45</td>\n",
              "      <td>77</td>\n",
              "      <td>20.9</td>\n",
              "      <td>18.4</td>\n",
              "      <td>3.75</td>\n",
              "      <td>7.4</td>\n",
              "    </tr>\n",
              "    <tr>\n",
              "      <th>2</th>\n",
              "      <td>4.0</td>\n",
              "      <td>2</td>\n",
              "      <td>30</td>\n",
              "      <td>104</td>\n",
              "      <td>29.2</td>\n",
              "      <td>27.9</td>\n",
              "      <td>4.78</td>\n",
              "      <td>7.6</td>\n",
              "    </tr>\n",
              "    <tr>\n",
              "      <th>3</th>\n",
              "      <td>3.4</td>\n",
              "      <td>194</td>\n",
              "      <td>45</td>\n",
              "      <td>98</td>\n",
              "      <td>73.2</td>\n",
              "      <td>20.6</td>\n",
              "      <td>3.94</td>\n",
              "      <td>7.5</td>\n",
              "    </tr>\n",
              "    <tr>\n",
              "      <th>4</th>\n",
              "      <td>4.2</td>\n",
              "      <td>180</td>\n",
              "      <td>45</td>\n",
              "      <td>67</td>\n",
              "      <td>78.1</td>\n",
              "      <td>19.5</td>\n",
              "      <td>3.97</td>\n",
              "      <td>7.5</td>\n",
              "    </tr>\n",
              "  </tbody>\n",
              "</table>\n",
              "</div>"
            ],
            "text/plain": [
              "   H (km)  Theta (degrees)  Delta (degrees)  ...  W (km)  D (m)    M\n",
              "0     2.4              201               45  ...    17.9   3.70  7.4\n",
              "1     2.0              189               45  ...    18.4   3.75  7.4\n",
              "2     4.0                2               30  ...    27.9   4.78  7.6\n",
              "3     3.4              194               45  ...    20.6   3.94  7.5\n",
              "4     4.2              180               45  ...    19.5   3.97  7.5\n",
              "\n",
              "[5 rows x 8 columns]"
            ]
          },
          "metadata": {
            "tags": []
          },
          "execution_count": 7
        }
      ]
    },
    {
      "cell_type": "code",
      "metadata": {
        "id": "qT3hkmUV3BD2"
      },
      "source": [
        "\n",
        "# get the model\n",
        "def get_model(n_inputs, n_outputs):\n",
        "\tmodel = Sequential()\n",
        "\tmodel.add(Dense(200, input_dim=n_inputs, kernel_initializer='he_uniform', activation='relu'))\n",
        "\tmodel.add(Dense(200, kernel_initializer='he_uniform', activation='relu'))\n",
        "\tmodel.add(Dense(200, kernel_initializer='he_uniform', activation='relu'))\n",
        "\tmodel.add(Dense(200, kernel_initializer='he_uniform', activation='relu'))\n",
        "\tmodel.add(Dense(200, kernel_initializer='he_uniform', activation='relu'))\n",
        "\tmodel.add(Dense(n_outputs, kernel_initializer='he_uniform', activation='linear'))\n",
        "\tmodel.compile(loss='mae', optimizer='adam')\n",
        "\treturn model\n"
      ],
      "execution_count": 10,
      "outputs": []
    },
    {
      "cell_type": "code",
      "metadata": {
        "colab": {
          "base_uri": "https://localhost:8080/",
          "height": 184
        },
        "id": "yh0rYR_koc-2",
        "outputId": "a395e22a-d566-4ba9-bac4-191189ad0829"
      },
      "source": [
        "\n",
        "print(model.summary())"
      ],
      "execution_count": 11,
      "outputs": [
        {
          "output_type": "error",
          "ename": "NameError",
          "evalue": "ignored",
          "traceback": [
            "\u001b[0;31m---------------------------------------------------------------------------\u001b[0m",
            "\u001b[0;31mNameError\u001b[0m                                 Traceback (most recent call last)",
            "\u001b[0;32m<ipython-input-11-fe870d13528f>\u001b[0m in \u001b[0;36m<module>\u001b[0;34m()\u001b[0m\n\u001b[1;32m      1\u001b[0m \u001b[0;34m\u001b[0m\u001b[0m\n\u001b[0;32m----> 2\u001b[0;31m \u001b[0mprint\u001b[0m\u001b[0;34m(\u001b[0m\u001b[0mmodel\u001b[0m\u001b[0;34m.\u001b[0m\u001b[0msummary\u001b[0m\u001b[0;34m(\u001b[0m\u001b[0;34m)\u001b[0m\u001b[0;34m)\u001b[0m\u001b[0;34m\u001b[0m\u001b[0;34m\u001b[0m\u001b[0m\n\u001b[0m",
            "\u001b[0;31mNameError\u001b[0m: name 'model' is not defined"
          ]
        }
      ]
    },
    {
      "cell_type": "markdown",
      "metadata": {
        "id": "RxXHB_X4QkIm"
      },
      "source": [
        ""
      ]
    },
    {
      "cell_type": "code",
      "metadata": {
        "colab": {
          "base_uri": "https://localhost:8080/"
        },
        "id": "sLDL0Xtl5U6X",
        "outputId": "7236cb38-e671-4646-c8a0-d633346a406f"
      },
      "source": [
        "\n",
        "# get model\n",
        "model = get_model(n_inputs, n_outputs)\n",
        "# fit the model on all data\n",
        "model.fit(X, y, verbose=0, epochs=1000)\n"
      ],
      "execution_count": null,
      "outputs": [
        {
          "output_type": "execute_result",
          "data": {
            "text/plain": [
              "<tensorflow.python.keras.callbacks.History at 0x7f9b76240950>"
            ]
          },
          "metadata": {
            "tags": []
          },
          "execution_count": 150
        }
      ]
    },
    {
      "cell_type": "code",
      "metadata": {
        "colab": {
          "base_uri": "https://localhost:8080/"
        },
        "id": "xf8YxHx1n-eS",
        "outputId": "cc353aaa-680b-4b6e-a1a1-285a326933c2"
      },
      "source": [
        "# make a prediction for new data\n",
        "#row = [-0.99859353,2.19284309,-0.42632569,-0.21043258,-1.13655612,-0.55671602,-0.63169045,-0.87625098,-0.99445578,-0.3677487]\n",
        "newX = X[1:2] #asarray([row])\n",
        "yhat = model.predict(newX)\n",
        "print(newX)\n",
        "print('Predicted: %s' % yhat[0])"
      ],
      "execution_count": null,
      "outputs": [
        {
          "output_type": "stream",
          "text": [
            "   H (km)  Theta (degrees)  Delta (degrees)  ...  W (km)  D (m)    M\n",
            "1     2.0              189               45  ...    18.4   3.75  7.4\n",
            "\n",
            "[1 rows x 8 columns]\n",
            "Predicted: [0.31779432 0.31773952 0.3135299  ... 0.20920125 0.20757622 0.20567705]\n"
          ],
          "name": "stdout"
        }
      ]
    },
    {
      "cell_type": "code",
      "metadata": {
        "colab": {
          "base_uri": "https://localhost:8080/"
        },
        "id": "AvRLCr86sX4l",
        "outputId": "6273fdc4-8c1a-4992-e746-051af99ddc55"
      },
      "source": [
        "# make a prediction for new data\n",
        "#row = [-0.99859353,2.19284309,-0.42632569,-0.21043258,-1.13655612,-0.55671602,-0.63169045,-0.87625098,-0.99445578,-0.3677487]\n",
        "newX = X[4:5] #asarray([row])\n",
        "yhat1 = model.predict(newX)\n",
        "print(newX)\n",
        "print('Predicted: %s' % yhat1[0])"
      ],
      "execution_count": null,
      "outputs": [
        {
          "output_type": "stream",
          "text": [
            "   H (km)  Theta (degrees)  Delta (degrees)  ...  W (km)  D (m)    M\n",
            "4     4.2              180               45  ...    19.5   3.97  7.5\n",
            "\n",
            "[1 rows x 8 columns]\n",
            "Predicted: [0.31779432 0.31773952 0.3135299  ... 0.20920125 0.20757622 0.20567705]\n"
          ],
          "name": "stdout"
        }
      ]
    },
    {
      "cell_type": "code",
      "metadata": {
        "colab": {
          "base_uri": "https://localhost:8080/"
        },
        "id": "31cVJsBRoC8V",
        "outputId": "7119c66d-82d9-444a-c885-63a40e68b879"
      },
      "source": [
        "print(yhat[0]-yhat1[0])"
      ],
      "execution_count": null,
      "outputs": [
        {
          "output_type": "stream",
          "text": [
            "[0. 0. 0. ... 0. 0. 0.]\n"
          ],
          "name": "stdout"
        }
      ]
    },
    {
      "cell_type": "code",
      "metadata": {
        "id": "-CtwrCIRxna2"
      },
      "source": [
        "from sklearn.datasets import make_regression\n",
        "from sklearn.model_selection import train_test_split\n",
        "from sklearn.multioutput import MultiOutputRegressor\n",
        "from sklearn.ensemble import GradientBoostingRegressor\n",
        "from sklearn.metrics import mean_squared_error, r2_score, mean_absolute_error\n",
        "#X, y = make_regression(n_samples=10, n_targets=3, random_state=1)"
      ],
      "execution_count": 8,
      "outputs": []
    },
    {
      "cell_type": "code",
      "metadata": {
        "id": "UVrEHO6oVZsI"
      },
      "source": [
        "MoR = MultiOutputRegressor(GradientBoostingRegressor(random_state=0))"
      ],
      "execution_count": 9,
      "outputs": []
    },
    {
      "cell_type": "code",
      "metadata": {
        "id": "uhyTfgvMWBxI"
      },
      "source": [
        "X_train, X_test, y_train, y_test = train_test_split(X, y, test_size=0.25, random_state=42)"
      ],
      "execution_count": 23,
      "outputs": []
    },
    {
      "cell_type": "code",
      "metadata": {
        "colab": {
          "base_uri": "https://localhost:8080/"
        },
        "id": "3pIN6tmByL90",
        "outputId": "a0f3d7ec-ed5b-405e-facb-ea59208f533c"
      },
      "source": [
        "MoR.fit(X_train, y_train)"
      ],
      "execution_count": 24,
      "outputs": [
        {
          "output_type": "execute_result",
          "data": {
            "text/plain": [
              "MultiOutputRegressor(estimator=GradientBoostingRegressor(alpha=0.9,\n",
              "                                                         ccp_alpha=0.0,\n",
              "                                                         criterion='friedman_mse',\n",
              "                                                         init=None,\n",
              "                                                         learning_rate=0.1,\n",
              "                                                         loss='ls', max_depth=3,\n",
              "                                                         max_features=None,\n",
              "                                                         max_leaf_nodes=None,\n",
              "                                                         min_impurity_decrease=0.0,\n",
              "                                                         min_impurity_split=None,\n",
              "                                                         min_samples_leaf=1,\n",
              "                                                         min_samples_split=2,\n",
              "                                                         min_weight_fraction_leaf=0.0,\n",
              "                                                         n_estimators=100,\n",
              "                                                         n_iter_no_change=None,\n",
              "                                                         presort='deprecated',\n",
              "                                                         random_state=0,\n",
              "                                                         subsample=1.0,\n",
              "                                                         tol=0.0001,\n",
              "                                                         validation_fraction=0.1,\n",
              "                                                         verbose=0,\n",
              "                                                         warm_start=False),\n",
              "                     n_jobs=None)"
            ]
          },
          "metadata": {
            "tags": []
          },
          "execution_count": 24
        }
      ]
    },
    {
      "cell_type": "code",
      "metadata": {
        "id": "QqK6QhcEyN2R"
      },
      "source": [
        "outs = MoR.predict(X_test)"
      ],
      "execution_count": 25,
      "outputs": []
    },
    {
      "cell_type": "code",
      "metadata": {
        "colab": {
          "base_uri": "https://localhost:8080/"
        },
        "id": "KFJe-tmsWaVb",
        "outputId": "d86c32f8-0f04-4611-f551-33faecbe2db0"
      },
      "source": [
        "mean_squared_error(y_test, outs)"
      ],
      "execution_count": 26,
      "outputs": [
        {
          "output_type": "execute_result",
          "data": {
            "text/plain": [
              "0.09039753543751938"
            ]
          },
          "metadata": {
            "tags": []
          },
          "execution_count": 26
        }
      ]
    },
    {
      "cell_type": "code",
      "metadata": {
        "colab": {
          "base_uri": "https://localhost:8080/"
        },
        "id": "Pzwydlu4Yxy1",
        "outputId": "e4259d05-9725-41cc-98fa-5f7af91a2a26"
      },
      "source": [
        "r2_score(y_test, outs)"
      ],
      "execution_count": 27,
      "outputs": [
        {
          "output_type": "execute_result",
          "data": {
            "text/plain": [
              "0.18887288121502044"
            ]
          },
          "metadata": {
            "tags": []
          },
          "execution_count": 27
        }
      ]
    },
    {
      "cell_type": "code",
      "metadata": {
        "colab": {
          "base_uri": "https://localhost:8080/"
        },
        "id": "b0lPzVKyY_KC",
        "outputId": "e1fa6fa2-2cdc-41d5-fa7a-95d13306d82a"
      },
      "source": [
        "mean_absolute_error(y_test, outs)"
      ],
      "execution_count": 28,
      "outputs": [
        {
          "output_type": "execute_result",
          "data": {
            "text/plain": [
              "0.19262190051461092"
            ]
          },
          "metadata": {
            "tags": []
          },
          "execution_count": 28
        }
      ]
    },
    {
      "cell_type": "markdown",
      "metadata": {
        "id": "jNps3pYFnkdH"
      },
      "source": [
        "# **THE END**"
      ]
    },
    {
      "cell_type": "code",
      "metadata": {
        "colab": {
          "base_uri": "https://localhost:8080/"
        },
        "id": "DlTqGxXGyuUB",
        "outputId": "736c7c41-17ac-4574-e964-158194eae2a1"
      },
      "source": [
        "outs = np.round(outs,5)\n",
        "print(outs)"
      ],
      "execution_count": 29,
      "outputs": [
        {
          "output_type": "stream",
          "text": [
            "[[0.18757 0.18757 0.15244 ... 0.15285 0.16975 0.13434]\n",
            " [0.33517 0.33517 0.31871 ... 0.2567  0.23926 0.23309]\n",
            " [0.68966 0.68966 0.64188 ... 0.45987 0.45794 0.44326]\n",
            " ...\n",
            " [1.13217 1.13217 1.11698 ... 0.45379 0.44813 0.44329]\n",
            " [0.30223 0.30223 0.2915  ... 0.25522 0.25193 0.24481]\n",
            " [0.34014 0.34014 0.33345 ... 0.22934 0.2009  0.20804]]\n"
          ],
          "name": "stdout"
        }
      ]
    },
    {
      "cell_type": "code",
      "metadata": {
        "colab": {
          "base_uri": "https://localhost:8080/"
        },
        "id": "_-o7EOdNzQMq",
        "outputId": "d34a2218-eb5e-4663-f4e5-21717991ec38"
      },
      "source": [
        "print(y_test)"
      ],
      "execution_count": 30,
      "outputs": [
        {
          "output_type": "stream",
          "text": [
            "          0        1        2        3  ...     2384     2385     2386     2387\n",
            "37  0.69528  0.69528  0.68020  0.65403  ...  0.26205  0.25590  0.24963  0.24282\n",
            "24  0.72157  0.72157  0.70893  0.68844  ...  0.42088  0.41848  0.41621  0.41443\n",
            "25  0.19536  0.19536  0.19296  0.19016  ...  0.14612  0.14596  0.14580  0.14529\n",
            "36  0.28087  0.28087  0.27673  0.26810  ...  0.15438  0.15348  0.15166  0.14903\n",
            "34  0.08456  0.08456  0.08373  0.08246  ...  0.07499  0.07440  0.07358  0.07289\n",
            "40  0.12452  0.12452  0.12245  0.11903  ...  0.14491  0.14425  0.14332  0.14229\n",
            "4   0.26836  0.26836  0.26452  0.25855  ...  0.12967  0.12872  0.12788  0.12718\n",
            "12  0.67414  0.67414  0.67126  0.66837  ...  0.32798  0.32692  0.32919  0.33154\n",
            "8   1.20598  1.20598  1.18467  1.14592  ...  0.40987  0.40445  0.40223  0.40237\n",
            "3   0.26385  0.26385  0.25802  0.24963  ...  0.09902  0.09723  0.09540  0.09376\n",
            "6   0.11585  0.11585  0.11367  0.11042  ...  0.08653  0.08466  0.08269  0.08044\n",
            "\n",
            "[11 rows x 2388 columns]\n"
          ],
          "name": "stdout"
        }
      ]
    },
    {
      "cell_type": "code",
      "metadata": {
        "id": "fDtmebkS64fQ"
      },
      "source": [
        "Dev1 = pd.DataFrame(outs)\n",
        "Dev1.to_csv('/content/drive/My Drive/civil/D1.csv')\n",
        "Dev2 = pd.DataFrame(y_test)\n",
        "Dev2.to_csv('/content/drive/My Drive/civil/D2.csv')"
      ],
      "execution_count": 38,
      "outputs": []
    },
    {
      "cell_type": "code",
      "metadata": {
        "id": "iBB4f3cEmjPE"
      },
      "source": [
        "D1=pd.read_csv('/content/drive/My Drive/civil/D1.csv')\n",
        "D2=pd.read_csv('/content/drive/My Drive/civil/D2.csv')"
      ],
      "execution_count": 43,
      "outputs": []
    },
    {
      "cell_type": "code",
      "metadata": {
        "colab": {
          "base_uri": "https://localhost:8080/"
        },
        "id": "cOt7I-9qm48n",
        "outputId": "28e6985d-8376-4a5a-c2af-1fc2d9aa9db0"
      },
      "source": [
        "print(D1)"
      ],
      "execution_count": 44,
      "outputs": [
        {
          "output_type": "stream",
          "text": [
            "    Unnamed: 0        0        1        2  ...     2384     2385     2386     2387\n",
            "0            0  0.18757  0.18757  0.15244  ...  0.12892  0.15285  0.16975  0.13434\n",
            "1            1  0.33517  0.33517  0.31871  ...  0.28271  0.25670  0.23926  0.23309\n",
            "2            2  0.68966  0.68966  0.64188  ...  0.48621  0.45987  0.45794  0.44326\n",
            "3            3  0.16978  0.16978  0.14099  ...  0.10754  0.13380  0.13104  0.10733\n",
            "4            4  0.09260  0.09260  0.11790  ...  0.04953  0.07301  0.06887  0.06739\n",
            "5            5  0.19639  0.19639  0.18322  ...  0.11931  0.09136  0.10191  0.08000\n",
            "6            6  0.59664  0.59664  0.54251  ...  0.30123  0.27154  0.31177  0.28826\n",
            "7            7  0.67466  0.67466  0.67785  ...  0.35808  0.37107  0.32919  0.35684\n",
            "8            8  1.13217  1.13217  1.11698  ...  0.46913  0.45379  0.44813  0.44329\n",
            "9            9  0.30223  0.30223  0.29150  ...  0.26425  0.25522  0.25193  0.24481\n",
            "10          10  0.34014  0.34014  0.33345  ...  0.24400  0.22934  0.20090  0.20804\n",
            "\n",
            "[11 rows x 2389 columns]\n"
          ],
          "name": "stdout"
        }
      ]
    },
    {
      "cell_type": "code",
      "metadata": {
        "colab": {
          "base_uri": "https://localhost:8080/"
        },
        "id": "TaVREPZFm_56",
        "outputId": "515d0e6e-daed-4683-d79e-e3e22cf63fdf"
      },
      "source": [
        "print(D2)"
      ],
      "execution_count": 42,
      "outputs": [
        {
          "output_type": "stream",
          "text": [
            "    Unnamed: 0        0        1        2  ...     2384     2385     2386     2387\n",
            "0           37  0.69528  0.69528  0.68020  ...  0.26205  0.25590  0.24963  0.24282\n",
            "1           24  0.72157  0.72157  0.70893  ...  0.42088  0.41848  0.41621  0.41443\n",
            "2           25  0.19536  0.19536  0.19296  ...  0.14612  0.14596  0.14580  0.14529\n",
            "3           36  0.28087  0.28087  0.27673  ...  0.15438  0.15348  0.15166  0.14903\n",
            "4           34  0.08456  0.08456  0.08373  ...  0.07499  0.07440  0.07358  0.07289\n",
            "5           40  0.12452  0.12452  0.12245  ...  0.14491  0.14425  0.14332  0.14229\n",
            "6            4  0.26836  0.26836  0.26452  ...  0.12967  0.12872  0.12788  0.12718\n",
            "7           12  0.67414  0.67414  0.67126  ...  0.32798  0.32692  0.32919  0.33154\n",
            "8            8  1.20598  1.20598  1.18467  ...  0.40987  0.40445  0.40223  0.40237\n",
            "9            3  0.26385  0.26385  0.25802  ...  0.09902  0.09723  0.09540  0.09376\n",
            "10           6  0.11585  0.11585  0.11367  ...  0.08653  0.08466  0.08269  0.08044\n",
            "\n",
            "[11 rows x 2389 columns]\n"
          ],
          "name": "stdout"
        }
      ]
    },
    {
      "cell_type": "code",
      "metadata": {
        "colab": {
          "base_uri": "https://localhost:8080/"
        },
        "id": "1MZcWeNRmsX3",
        "outputId": "6faadbbe-d86b-4cf0-d326-a7dc1362206b"
      },
      "source": [
        "mean_squared_error(D2, D1)"
      ],
      "execution_count": 40,
      "outputs": [
        {
          "output_type": "execute_result",
          "data": {
            "text/plain": [
              "0.3081001171233532"
            ]
          },
          "metadata": {
            "tags": []
          },
          "execution_count": 40
        }
      ]
    },
    {
      "cell_type": "code",
      "metadata": {
        "colab": {
          "base_uri": "https://localhost:8080/"
        },
        "id": "adtav0ow11lf",
        "outputId": "9e490cb4-4e45-4d81-9e32-07e86d00a0a0"
      },
      "source": [
        "b = outs.flatten()\n",
        "a = y_test.to_numpy()\n",
        "a = a.flatten()\n",
        "print('SAD',np.sum(np.abs(a - b)))\n",
        "print('Mean',np.mean(b - a))\n",
        "print(\"SSD:\", np.sum(np.square(a - b)))\n",
        "print(\"STD:\", np.std(a - b))"
      ],
      "execution_count": 32,
      "outputs": [
        {
          "output_type": "stream",
          "text": [
            "SAD 5059.793\n",
            "Mean 0.10445646490025887\n",
            "SSD: 2374.5629778845996\n",
            "STD: 0.2819333291050442\n"
          ],
          "name": "stdout"
        }
      ]
    },
    {
      "cell_type": "code",
      "metadata": {
        "colab": {
          "base_uri": "https://localhost:8080/"
        },
        "id": "mopQZpdC1LN1",
        "outputId": "b77236fe-49da-4f62-9487-91bfd771d5a2"
      },
      "source": [
        "from scipy.spatial.distance import cdist\n",
        "results =  cdist(y_test,outs,'euclidean')\n",
        "print(results)"
      ],
      "execution_count": 20,
      "outputs": [
        {
          "output_type": "stream",
          "text": [
            "[[13.38197462  9.12067814 10.49911077 17.06794695 13.80544695 13.71189779\n",
            "  10.23200093 17.30154912 34.58332379 10.44460862  9.20730552  8.14979246\n",
            "  10.28812321  8.55390304 16.64273681]\n",
            " [14.656784   10.54820224  8.04216186 18.50718297 14.92638603 15.88106862\n",
            "   8.57854432 15.76654318 31.59658533  7.52267804  8.92379801  8.23828322\n",
            "   9.71695828  9.8810666  14.33382292]\n",
            " [ 7.31473252 11.92441512 22.79814816  1.96805397  4.86204132  5.66950196\n",
            "  19.93721517 30.67005758 48.9557518  21.27857836 13.03961939 18.13823144\n",
            "  12.00727273 11.29016528 30.3391257 ]\n",
            " [ 5.53048477  7.88221715 18.27690637  6.02861132  5.07142074  3.79076429\n",
            "  15.55180043 26.47704426 44.87582617 17.03483832  8.91996733 13.51394138\n",
            "   8.38811747  7.55190776 25.93263258]\n",
            " [ 9.0804001  13.89862294 25.02075947  3.31088056  7.20123051  7.25171922\n",
            "  21.9983812  32.72996489 51.2115675  23.37083731 15.14909324 20.24314876\n",
            "  14.08706995 13.54673174 32.50869986]\n",
            " [ 8.03167031 12.83588688 23.99203655  2.73024977  6.14892146  6.26597386\n",
            "  21.10525982 31.7866486  50.27780288 22.45116345 14.2457143  19.17236093\n",
            "  13.23264184 12.30558697 31.52938367]\n",
            " [ 6.93510821  7.14278651 15.78508479  8.1161968   5.78099115  6.67898042\n",
            "  13.21864575 23.4691029  41.241274   13.97625557  6.90426071 11.80110752\n",
            "   6.53716979  6.49768452 22.84557896]\n",
            " [17.24899495 12.83498056  6.73902358 21.28266108 17.5700511  18.41546221\n",
            "   8.42471579 13.25072917 28.57581362  6.79895478 10.7138579   9.02383418\n",
            "  11.81027959 12.28735079 11.33471502]\n",
            " [47.97629652 42.10716043 30.74368947 52.53828944 49.08696204 48.45716379\n",
            "  33.98075481 25.551451   12.89022644 32.70214369 40.38055643 35.68326611\n",
            "  41.85239987 42.59501579 23.76657065]\n",
            " [ 5.95407262  7.73887772 17.50747874  5.79586028  3.95223222  4.61826498\n",
            "  14.79993469 25.54658037 43.49970993 16.03056748  8.0414885  13.12043849\n",
            "   7.51127482  7.03078807 24.86998145]\n",
            " [ 8.56909195 13.11211563 24.20531983  2.78355598  6.71266248  6.54282582\n",
            "  21.22921362 31.94821139 50.33587174 22.53783099 14.30536438 19.37985444\n",
            "  13.39533775 12.69261538 31.68052789]\n",
            " [24.78715698 18.922565    9.92427988 29.10971236 25.71475843 24.90238225\n",
            "  12.62430908  8.6723185  22.59672949 11.72043858 18.26785007 13.73154223\n",
            "  19.29583847 19.46025491  8.11862237]\n",
            " [ 6.67310315 11.18451262 22.09112096  2.20630248  4.71563789  4.74386932\n",
            "  19.18982365 30.06179515 48.50308616 20.57458012 12.24082591 17.34677429\n",
            "  11.319771   10.70942417 29.67755752]\n",
            " [ 5.34308343  7.3985837  17.35247079  5.64831719  3.50723194  4.50550618\n",
            "  14.63271965 25.52084139 43.55589746 15.83974812  7.62130214 12.93375991\n",
            "   7.17657973  6.63243894 24.90733942]\n",
            " [71.32044738 67.00088168 56.42484642 75.87161659 71.93710172 73.21954186\n",
            "  60.01033801 52.18463062 37.62328394 58.04518703 65.3501444  61.49188841\n",
            "  66.21450716 66.55473278 50.75201128]]\n"
          ],
          "name": "stdout"
        }
      ]
    },
    {
      "cell_type": "markdown",
      "metadata": {
        "id": "N2Vp6BIyzP0L"
      },
      "source": [
        ""
      ]
    },
    {
      "cell_type": "code",
      "metadata": {
        "id": "VhsSyJrEUrZM"
      },
      "source": [
        "\n",
        "import matplotlib.pyplot as plt"
      ],
      "execution_count": null,
      "outputs": []
    },
    {
      "cell_type": "code",
      "metadata": {
        "id": "Jx4yE9XCYDfg"
      },
      "source": [
        "yhat = np.round(yhat,5)\n"
      ],
      "execution_count": null,
      "outputs": []
    },
    {
      "cell_type": "code",
      "metadata": {
        "colab": {
          "base_uri": "https://localhost:8080/"
        },
        "id": "W3GuQJluYw_G",
        "outputId": "2aa57f1b-3659-4813-a78e-7c2ef48ba3c8"
      },
      "source": [
        "print(yhat.dtype)"
      ],
      "execution_count": null,
      "outputs": [
        {
          "output_type": "stream",
          "text": [
            "float32\n"
          ],
          "name": "stdout"
        }
      ]
    },
    {
      "cell_type": "code",
      "metadata": {
        "id": "lYU8Rs_wZsMB"
      },
      "source": [
        "a = y.to_numpy()"
      ],
      "execution_count": null,
      "outputs": []
    },
    {
      "cell_type": "code",
      "metadata": {
        "colab": {
          "base_uri": "https://localhost:8080/"
        },
        "id": "PCY-LdtaWfLg",
        "outputId": "a0f92e4b-c5d3-4b87-90be-8391adf78bef"
      },
      "source": [
        "print(yhat)"
      ],
      "execution_count": null,
      "outputs": [
        {
          "output_type": "stream",
          "text": [
            "[[0.32405 0.32397 0.31849 ... 0.22345 0.22038 0.21663]\n",
            " [0.32405 0.32397 0.31849 ... 0.22345 0.22038 0.21663]\n",
            " [0.32405 0.32397 0.31849 ... 0.22345 0.22038 0.21663]\n",
            " ...\n",
            " [0.32405 0.32397 0.31849 ... 0.22345 0.22038 0.21663]\n",
            " [0.32405 0.32397 0.31849 ... 0.22345 0.22038 0.21663]\n",
            " [0.32405 0.32397 0.31849 ... 0.22345 0.22038 0.21663]]\n"
          ],
          "name": "stdout"
        }
      ]
    },
    {
      "cell_type": "code",
      "metadata": {
        "colab": {
          "base_uri": "https://localhost:8080/"
        },
        "id": "U5eNrBT2aC2n",
        "outputId": "afa97b3b-9bd1-4520-9ee7-199a0448f518"
      },
      "source": [
        "print(a)"
      ],
      "execution_count": null,
      "outputs": [
        {
          "output_type": "stream",
          "text": [
            "[[0.20053 0.20053 0.1991  ... 0.08394 0.08256 0.08113]\n",
            " [0.29024 0.29024 0.28341 ... 0.22463 0.22115 0.21738]\n",
            " [0.26385 0.26385 0.25802 ... 0.09723 0.0954  0.09376]\n",
            " ...\n",
            " [0.23063 0.23063 0.23023 ... 0.20758 0.20572 0.20407]\n",
            " [0.09282 0.09282 0.09111 ... 0.06458 0.06349 0.06237]\n",
            " [0.35788 0.35788 0.35622 ... 0.33266 0.32728 0.32182]]\n"
          ],
          "name": "stdout"
        }
      ]
    },
    {
      "cell_type": "code",
      "metadata": {
        "colab": {
          "base_uri": "https://localhost:8080/",
          "height": 385
        },
        "id": "VmbAdqWBUi7J",
        "outputId": "9cd802f2-1ec1-45b9-c8b4-91d15cd63b0a"
      },
      "source": [
        "plt.plot(newX, yhat, marker = '.') \n",
        "# plt.scatter(df.t, df.I2, marker = '.') \n",
        "# plt.scatter(df.t, df.I3, marker = '.') \n",
        "plt.plot(newX, y) \n",
        "# plt.scatter(x, output,  c=\"r\", alpha=0.5, marker = '.', label=\"ANN pridected ESD Curve\")\n",
        "plt.xlabel(\"Time (ns)\")\n",
        "plt.ylabel(\"Current (A)\")\n",
        "plt.legend(loc='upper right')\n",
        "plt.show()\n"
      ],
      "execution_count": null,
      "outputs": [
        {
          "output_type": "stream",
          "text": [
            "/usr/local/lib/python3.7/dist-packages/ipykernel_launcher.py:1: MatplotlibDeprecationWarning: cycling among columns of inputs with non-matching shapes is deprecated.\n",
            "  \"\"\"Entry point for launching an IPython kernel.\n",
            "/usr/local/lib/python3.7/dist-packages/ipykernel_launcher.py:4: MatplotlibDeprecationWarning: cycling among columns of inputs with non-matching shapes is deprecated.\n",
            "  after removing the cwd from sys.path.\n",
            "No handles with labels found to put in legend.\n"
          ],
          "name": "stderr"
        },
        {
          "output_type": "display_data",
          "data": {
            "image/png": "[encoded data removed]",
            "text/plain": [
              "<Figure size 432x288 with 1 Axes>"
            ]
          },
          "metadata": {
            "tags": [],
            "needs_background": "light"
          }
        }
      ]
    }
  ]
}